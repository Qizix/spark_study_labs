{
 "cells": [
  {
   "cell_type": "markdown",
   "id": "df6af55a-3ba7-40a8-bcf8-a898f04466d2",
   "metadata": {},
   "source": [
    "<p style=\"text-align:center\">\n",
    "    <a href=\"https://skills.network/?utm_medium=Exinfluencer&utm_source=Exinfluencer&utm_content=000026UJ&utm_term=10006555&utm_id=NA-SkillsNetwork-Channel-SkillsNetworkCoursesIBMSkillsNetworkBD0231ENCoursera2789-2023-01-01\">\n",
    "    <img src=\"https://cf-courses-data.s3.us.cloud-object-storage.appdomain.cloud/assets/logos/SN_web_lightmode.png\" width=\"200\" alt=\"Skills Network Logo\">\n",
    "    </a>\n",
    "</p>\n"
   ]
  },
  {
   "cell_type": "markdown",
   "id": "5fa9e2ac-bc4f-4a21-b228-60b258eeb751",
   "metadata": {},
   "source": [
    "## Analyze a dataset using SparkSQL\n"
   ]
  },
  {
   "cell_type": "markdown",
   "id": "3216f053-e738-4a75-8161-579f514734d9",
   "metadata": {},
   "source": [
    "Estimated time needed: **30** minutes\n"
   ]
  },
  {
   "cell_type": "markdown",
   "id": "aa45138f-fde9-425d-a248-6e339699274a",
   "metadata": {},
   "source": [
    "<p style='color: red'>The purpose of this lab is to show you how to use SparkML to persist a model and to load the persisted model. \n"
   ]
  },
  {
   "cell_type": "markdown",
   "id": "5c396e59-9000-44fb-88a3-8cd554bf12e2",
   "metadata": {},
   "source": [
    "## __Table of Contents__\n",
    "\n",
    "<ol>\n",
    "  <li>\n",
    "    <a href=\"#Objectives\">Objectives\n",
    "    </a>\n",
    "  </li>\n",
    "  <li>\n",
    "    <a href=\"#Datasets\">Datasets\n",
    "    </a>\n",
    "  </li>\n",
    "  <li>\n",
    "    <a href=\"#Setup\">Setup\n",
    "    </a>\n",
    "    <ol>\n",
    "      <li>\n",
    "        <a href=\"#Installing-Required-Libraries\">Installing Required Libraries\n",
    "        </a>\n",
    "      </li>\n",
    "      <li>\n",
    "        <a href=\"#Importing-Required-Libraries\">Importing Required Libraries\n",
    "        </a>\n",
    "      </li>\n",
    "    </ol>\n",
    "  </li>\n",
    "  <li>\n",
    "    <a href=\"#Examples\">Examples\n",
    "    </a>\n",
    "    <ol>\n",
    "    <li>\n",
    "      <a href=\"#Task-1---Create-a-spark-session\">Task 1 - Create a spark session\n",
    "      </a>\n",
    "    </li>\n",
    "    <li>\n",
    "      <a href=\"#Task-2---Load-csv-file-into-a-dataframe\">Task 2 - Load csv file into a dataframe\n",
    "      </a>\n",
    "    </li>\n",
    "    <li>\n",
    "      <a href=\"#Task-3---Create-a-temporary-view\">Task 3 - Create a temporary view\n",
    "      </a>\n",
    "    </li>\n",
    "    <li>\n",
    "      <a href=\"#Task-4---Run-a-SQL-query-on-the-dataframe\">Task 4 - Run a SQL query on the dataframe\n",
    "      </a>\n",
    "    </li>\n",
    "    <li>\n",
    "      <a href=\"#Task-5---Analyze-the-dataset\">Task 5 - Analyze the dataset\n",
    "      </a>\n",
    "    </li>\n",
    "    </ol>\n",
    "  </li>\n",
    "  <li>\n",
    "    <a href=\"#Exercises\">Exercises\n",
    "    </a>\n",
    "  </li>\n",
    "  <ol>\n",
    "    <li>\n",
    "      <a href=\"#Exercise-1---Create-a-spark-session\">Exercise 1 - Create a spark session\n",
    "      </a>\n",
    "    </li>\n",
    "    <li>\n",
    "      <a href=\"#Exercise-2---Load-csv-file-into-a-dataframe\">Exercise 2 - Load csv file into a dataframe\n",
    "      </a>\n",
    "    </li>\n",
    "    <li>\n",
    "      <a href=\"#Exercise-3---Create-a-temporary-view\">Exercise 3 - Create a temporary view\n",
    "      </a>\n",
    "    </li>\n",
    "    <li>\n",
    "      <a href=\"#Exercise-4---Run-a-SQL-query-on-the-dataframe\">Exercise 4 - Run a SQL query on the dataframe\n",
    "      </a>\n",
    "    </li>\n",
    "    <li>\n",
    "      <a href=\"#Exercise-5---Analyze-the-dataset\">Exercise 5 - Analyze the dataset\n",
    "      </a>\n",
    "    </li>\n",
    "  </ol>\n",
    "</ol>\n"
   ]
  },
  {
   "cell_type": "markdown",
   "id": "d2109c69-4daf-439e-8568-74fbb06fb66f",
   "metadata": {},
   "source": [
    "## Objectives\n",
    "\n",
    "After completing this lab you will be able to:\n",
    "\n",
    " - Load a csv dataset into a dataframe\n",
    " - Create a temporary view based on a dataframe\n",
    " - Run SQL queries on the view\n",
    " - Analyze a dataset using SparkSQL\n"
   ]
  },
  {
   "cell_type": "markdown",
   "id": "c350cc09-c47b-4c7f-8802-c3a39e78bd6c",
   "metadata": {},
   "source": [
    "## Datasets\n",
    "\n",
    "In this lab you will be using dataset(s):\n",
    "\n",
    " - Modified version of car mileage dataset.  Original dataset available at https://archive.ics.uci.edu/ml/datasets/auto+mpg \n",
    " - Modified version of diamonds dataset.  Original dataset available at https://www.openml.org/search?type=data&sort=runs&id=42225&status=active\n",
    " \n"
   ]
  },
  {
   "cell_type": "markdown",
   "id": "db94c960-cd0b-4488-82b7-c8453e2b8b44",
   "metadata": {},
   "source": [
    "----\n"
   ]
  },
  {
   "cell_type": "markdown",
   "id": "d8f37ad0-62f1-4833-9bb0-873f05c49c1e",
   "metadata": {},
   "source": [
    "## Setup\n"
   ]
  },
  {
   "cell_type": "markdown",
   "id": "b1d6e8c0-b5ef-4f0c-9314-305da02d817c",
   "metadata": {},
   "source": [
    "For this lab, we will be using the following libraries:\n",
    "\n",
    "*   [`PySpark`](https://spark.apache.org/docs/latest/api/python/index.html?utm_medium=Exinfluencer&utm_source=Exinfluencer&utm_content=000026UJ&utm_term=10006555&utm_id=NA-SkillsNetwork-Channel-SkillsNetworkCoursesIBMSkillsNetworkBD0231ENCoursera2789-2023-01-01) for connecting to the Spark Cluster\n"
   ]
  },
  {
   "cell_type": "markdown",
   "id": "ab6f5200-9915-4fb7-beae-c752690ec5a1",
   "metadata": {},
   "source": [
    "### Installing Required Libraries\n",
    "\n",
    "Spark Cluster is pre-installed in the Skills Network Labs environment. However, you need libraries like pyspark and findspark to connect to this cluster.\n",
    "\n",
    "If you wish to download this jupyter notebook and run on your local computer, follow the instructions mentioned <a href=\"https://cf-courses-data.s3.us.cloud-object-storage.appdomain.cloud/IBMSkillsNetwork-BD0231EN-Coursera/labs/Connecting_to_spark_cluster_using_Skills_Network_labs.ipynb\">here.</a>\n",
    "\n"
   ]
  },
  {
   "cell_type": "markdown",
   "id": "542621cd-cf62-4733-818a-092f5c7dbeae",
   "metadata": {},
   "source": [
    "The following required libraries are __not__ pre-installed in the Skills Network Labs environment. __You will need to run the following cell__ to install them:\n"
   ]
  },
  {
   "cell_type": "markdown",
   "id": "42190abf-19a7-4617-93f6-ccd3bfeb3965",
   "metadata": {},
   "source": [
    "### Importing Required Libraries\n",
    "\n",
    "_We recommend you import all required libraries in one place (here):_\n"
   ]
  },
  {
   "cell_type": "code",
   "execution_count": 1,
   "id": "3d786a9d-efaf-40e2-9120-a9e938e1fe82",
   "metadata": {},
   "outputs": [],
   "source": [
    "# You can also use this section to suppress warnings generated by your code:\n",
    "def warn(*args, **kwargs):\n",
    "    pass\n",
    "import warnings\n",
    "warnings.warn = warn\n",
    "warnings.filterwarnings('ignore')\n",
    "\n",
    "# FindSpark simplifies the process of using Apache Spark with Python\n",
    "\n",
    "import findspark\n",
    "findspark.init()\n",
    "\n",
    "#import functions/Classes for sparkml\n",
    "\n",
    "from pyspark.sql import SparkSession"
   ]
  },
  {
   "cell_type": "markdown",
   "id": "46170a5f-61fd-4fba-83b5-d6286b02f0bb",
   "metadata": {},
   "source": [
    "# Examples\n"
   ]
  },
  {
   "cell_type": "markdown",
   "id": "44c6e8ab-90e0-4057-8b0b-4cb373bb7c1f",
   "metadata": {},
   "source": [
    "## Task 1 - Create a spark session\n"
   ]
  },
  {
   "cell_type": "code",
   "execution_count": 2,
   "id": "5648794a-bec0-4f81-a0a8-8490051e76a8",
   "metadata": {},
   "outputs": [],
   "source": [
    "#Create SparkSession\n",
    "#Ignore any warnings by SparkSession command\n",
    "\n",
    "spark = SparkSession.builder.appName(\"SparkSQL\").getOrCreate()"
   ]
  },
  {
   "cell_type": "markdown",
   "id": "91ca9e98-ff3c-4a37-b148-05cbb45fb508",
   "metadata": {},
   "source": [
    "## Task 2 - Load csv file into a dataframe\n"
   ]
  },
  {
   "cell_type": "markdown",
   "id": "fb349968-7d1c-449f-a564-f37f257b0434",
   "metadata": {},
   "source": [
    "Download the data file\n"
   ]
  },
  {
   "cell_type": "code",
   "execution_count": null,
   "id": "ca8b78a3-fcf7-4e81-a46e-7e14f5f843b2",
   "metadata": {},
   "outputs": [],
   "source": [
    "!wget https://cf-courses-data.s3.us.cloud-object-storage.appdomain.cloud/IBM-BD0231EN-SkillsNetwork/datasets/mpg.csv\n"
   ]
  },
  {
   "cell_type": "markdown",
   "id": "9bcb3b6d-e369-4d05-8562-0f47f017a30f",
   "metadata": {},
   "source": [
    "Load the dataset into the spark dataframe\n"
   ]
  },
  {
   "cell_type": "code",
   "execution_count": 3,
   "id": "f1418e92-2eb1-4678-ba6f-10fa6bb7b643",
   "metadata": {},
   "outputs": [],
   "source": [
    "# Load mpg dataset\n",
    "mpg_data = spark.read.csv(\"mpg.csv\", header=True, inferSchema=True)\n"
   ]
  },
  {
   "cell_type": "markdown",
   "id": "0fcd23b1-1a03-4630-bae2-b055ac3b00c9",
   "metadata": {},
   "source": [
    "## Task 3 - Create a temporary view\n"
   ]
  },
  {
   "cell_type": "markdown",
   "id": "dd0d90ed-8237-47b5-8c5d-bd8c9303f34a",
   "metadata": {},
   "source": [
    "Create a temporary view of the DataFrame named mileage\n"
   ]
  },
  {
   "cell_type": "code",
   "execution_count": 4,
   "id": "03d155a3-c079-4624-b7d6-abd090e9571c",
   "metadata": {},
   "outputs": [],
   "source": [
    "\n",
    "mpg_data.createOrReplaceTempView(\"mileage\")\n"
   ]
  },
  {
   "cell_type": "markdown",
   "id": "6cbaaff3-f20e-4d97-99ce-8bb96b6c9f7e",
   "metadata": {},
   "source": [
    "## Task 4 - Run a SQL query on the dataframe\n"
   ]
  },
  {
   "cell_type": "markdown",
   "id": "1b249866-53a3-44f8-8a58-dc7dc336c22c",
   "metadata": {},
   "source": [
    "Select all cars whose mileage is more than 40\n"
   ]
  },
  {
   "cell_type": "code",
   "execution_count": 5,
   "id": "05f77d5e-e565-4164-a42a-31eaad27f5b7",
   "metadata": {},
   "outputs": [],
   "source": [
    "results = spark.sql(\"SELECT * FROM mileage WHERE MPG > 40\")"
   ]
  },
  {
   "cell_type": "code",
   "execution_count": 6,
   "id": "442116ab-4403-418a-b7c3-ec6a622a7b8c",
   "metadata": {},
   "outputs": [
    {
     "name": "stdout",
     "output_type": "stream",
     "text": [
      "+----+---------+-----------+----------+------+----------+----+--------+\n",
      "| MPG|Cylinders|Engine Disp|Horsepower|Weight|Accelerate|Year|  Origin|\n",
      "+----+---------+-----------+----------+------+----------+----+--------+\n",
      "|43.1|        4|       90.0|        48|  1985|      21.5|  78|European|\n",
      "|43.4|        4|       90.0|        48|  2335|      23.7|  80|European|\n",
      "|41.5|        4|       98.0|        76|  2144|      14.7|  80|European|\n",
      "|44.3|        4|       90.0|        48|  2085|      21.7|  80|European|\n",
      "|40.8|        4|       85.0|        65|  2110|      19.2|  80|Japanese|\n",
      "|44.6|        4|       91.0|        67|  1850|      13.8|  80|Japanese|\n",
      "|46.6|        4|       86.0|        65|  2110|      17.9|  80|Japanese|\n",
      "|44.0|        4|       97.0|        52|  2130|      24.6|  82|European|\n",
      "+----+---------+-----------+----------+------+----------+----+--------+\n",
      "\n"
     ]
    }
   ],
   "source": [
    "# show the results\n",
    "results.show()"
   ]
  },
  {
   "cell_type": "markdown",
   "id": "265dd3c2-ec85-43e8-9566-7cb63da15d70",
   "metadata": {},
   "source": [
    "## Task 5 - Analyze the dataset\n"
   ]
  },
  {
   "cell_type": "markdown",
   "id": "098a4f72-099f-42c4-9d4e-b4a05d2ad673",
   "metadata": {},
   "source": [
    "List all the unique Origins\n"
   ]
  },
  {
   "cell_type": "code",
   "execution_count": 7,
   "id": "33ad1105-a92b-40dc-b5a8-c1e0b47c6037",
   "metadata": {},
   "outputs": [
    {
     "name": "stdout",
     "output_type": "stream",
     "text": [
      "+--------+\n",
      "|  Origin|\n",
      "+--------+\n",
      "|European|\n",
      "|Japanese|\n",
      "|American|\n",
      "+--------+\n",
      "\n"
     ]
    }
   ],
   "source": [
    "spark.sql(\"SELECT distinct Origin FROM mileage\").show()"
   ]
  },
  {
   "cell_type": "markdown",
   "id": "b54ea2ad-25c2-4bc1-a017-49e6e350d60d",
   "metadata": {},
   "source": [
    "Show the count of Japanese cars\n"
   ]
  },
  {
   "cell_type": "code",
   "execution_count": 8,
   "id": "8010f46d-92c5-450a-beb6-1af21bec2b22",
   "metadata": {},
   "outputs": [
    {
     "name": "stdout",
     "output_type": "stream",
     "text": [
      "+--------+\n",
      "|count(1)|\n",
      "+--------+\n",
      "|      79|\n",
      "+--------+\n",
      "\n"
     ]
    }
   ],
   "source": [
    "spark.sql(\"SELECT count(*) FROM mileage where Origin ='Japanese' \").show()"
   ]
  },
  {
   "cell_type": "markdown",
   "id": "fef31392-da4f-4f9c-a176-26e0e4ab6c02",
   "metadata": {},
   "source": [
    "Count the number of cars with mileage greater than 40\n"
   ]
  },
  {
   "cell_type": "code",
   "execution_count": 9,
   "id": "c3347693-9748-4aa9-bb80-2d6cf50e230f",
   "metadata": {},
   "outputs": [
    {
     "name": "stdout",
     "output_type": "stream",
     "text": [
      "+--------+\n",
      "|count(1)|\n",
      "+--------+\n",
      "|       8|\n",
      "+--------+\n",
      "\n"
     ]
    }
   ],
   "source": [
    "spark.sql(\"SELECT count(*) FROM mileage where MPG > 40\").show()"
   ]
  },
  {
   "cell_type": "markdown",
   "id": "84219b39-e2fd-4de1-b812-506e65f66599",
   "metadata": {},
   "source": [
    "List the number of cars made in different Years\n"
   ]
  },
  {
   "cell_type": "code",
   "execution_count": 10,
   "id": "015c6497-4d03-45e9-8022-1535ccda4ed3",
   "metadata": {},
   "outputs": [
    {
     "name": "stdout",
     "output_type": "stream",
     "text": [
      "+----+-----------+\n",
      "|Year|count(Year)|\n",
      "+----+-----------+\n",
      "|  78|         36|\n",
      "|  81|         28|\n",
      "|  76|         34|\n",
      "|  72|         28|\n",
      "|  77|         28|\n",
      "|  82|         30|\n",
      "|  80|         27|\n",
      "|  73|         40|\n",
      "|  70|         29|\n",
      "|  75|         30|\n",
      "|  71|         27|\n",
      "|  79|         29|\n",
      "|  74|         26|\n",
      "+----+-----------+\n",
      "\n"
     ]
    }
   ],
   "source": [
    "spark.sql(\"SELECT Year, count(Year) FROM mileage group by Year\").show()"
   ]
  },
  {
   "cell_type": "markdown",
   "id": "754d9cc4-53e6-4b94-9fdc-a5958bd38bc8",
   "metadata": {},
   "source": [
    "Print the maximum MPG\n"
   ]
  },
  {
   "cell_type": "code",
   "execution_count": 11,
   "id": "e92b2e36-0eab-4a36-8fe9-6dacba5cd5d3",
   "metadata": {},
   "outputs": [
    {
     "name": "stdout",
     "output_type": "stream",
     "text": [
      "+--------+\n",
      "|max(MPG)|\n",
      "+--------+\n",
      "|    46.6|\n",
      "+--------+\n",
      "\n"
     ]
    }
   ],
   "source": [
    "spark.sql(\"SELECT max(MPG) FROM mileage\").show()"
   ]
  },
  {
   "cell_type": "markdown",
   "id": "2d8afae0-4750-428c-8aa2-ec5294ed6e8e",
   "metadata": {},
   "source": [
    "Stop Spark Session\n"
   ]
  },
  {
   "cell_type": "code",
   "execution_count": 12,
   "id": "abe95a3a-bd57-417c-85f9-15d286263a36",
   "metadata": {},
   "outputs": [],
   "source": [
    "spark.stop()"
   ]
  },
  {
   "cell_type": "markdown",
   "id": "1f909b45-4206-4a91-b58c-eb8c90e6e29b",
   "metadata": {},
   "source": [
    "# Exercises\n"
   ]
  },
  {
   "cell_type": "markdown",
   "id": "1d5e8e53-2c99-4730-9f3a-8d9210ecf387",
   "metadata": {},
   "source": [
    "### Exercise 1 - Create a spark session\n"
   ]
  },
  {
   "cell_type": "markdown",
   "id": "f71cbf78-b22d-480f-bd3c-9b2596e884b9",
   "metadata": {},
   "source": [
    "Create a spark session with appname \"SparkSQL Exercise\"\n"
   ]
  },
  {
   "cell_type": "code",
   "execution_count": 13,
   "id": "8e02e71d-4cc7-4103-83b1-d28fcdc47b27",
   "metadata": {},
   "outputs": [],
   "source": [
    "spark = SparkSession.builder.appName(\"SparkSQL Exercise\").getOrCreate()"
   ]
  },
  {
   "cell_type": "markdown",
   "id": "71fb397f-056a-4771-b833-396951f360c9",
   "metadata": {},
   "source": [
    "<details>\n",
    "    <summary>Click here for a Hint</summary>\n",
    "    \n",
    "use the SparkSession.builder \n",
    "</details>\n"
   ]
  },
  {
   "cell_type": "markdown",
   "id": "d8b8e378-019c-4e61-9456-759d905b2c78",
   "metadata": {},
   "source": [
    "<details>\n",
    "    <summary>Click here for Solution</summary>\n",
    "\n",
    "```\n",
    "spark = SparkSession.builder.appName(\"SparkSQL Exercise\").getOrCreate()\n",
    "```\n",
    "\n",
    "</details>\n"
   ]
  },
  {
   "cell_type": "markdown",
   "id": "addbbea0-f9b6-41c9-8aa3-0fb438ce8039",
   "metadata": {},
   "source": [
    "### Exercise 2 - Load csv file into a dataframe\n"
   ]
  },
  {
   "cell_type": "markdown",
   "id": "afd556c3-33df-4401-a349-d2ec42256b40",
   "metadata": {},
   "source": [
    "Download the data file\n"
   ]
  },
  {
   "cell_type": "markdown",
   "id": "5bcd39db-2e72-4a0c-a32e-38fd833211ff",
   "metadata": {},
   "source": [
    "Load the diamonds dataset into the spark dataframe\n"
   ]
  },
  {
   "cell_type": "code",
   "execution_count": 14,
   "id": "0dc44a98-e056-41a1-8dbb-7f906a1cf40f",
   "metadata": {},
   "outputs": [],
   "source": [
    "\n",
    "diamond_data = spark.read.csv(\"diamonds.csv\", header=True, inferSchema=True)\n"
   ]
  },
  {
   "cell_type": "markdown",
   "id": "433a24a7-b603-4d07-bddb-2cd481f143ae",
   "metadata": {},
   "source": [
    "<details>\n",
    "    <summary>Click here for a Hint</summary>\n",
    "    \n",
    "use the read.csv function</details>\n"
   ]
  },
  {
   "cell_type": "markdown",
   "id": "9f8d02fe-5318-4171-b7f6-fabf6b148ee9",
   "metadata": {},
   "source": [
    "<details>\n",
    "    <summary>Click here for Solution</summary>\n",
    "\n",
    "```\n",
    "diamond_data = spark.read.csv(\"diamonds.csv\", header=True, inferSchema=True)\n",
    "\n",
    "```\n",
    "\n",
    "</details>\n"
   ]
  },
  {
   "cell_type": "markdown",
   "id": "f175802d-99da-4f19-87d5-5cbd876d6d8b",
   "metadata": {},
   "source": [
    "### Exercise 3 - Create a temporary view\n"
   ]
  },
  {
   "cell_type": "markdown",
   "id": "537acbf2-ecb0-496f-a8c8-cab2d1ce617b",
   "metadata": {},
   "source": [
    "Create a temporary view of the DataFrame named diamonds\n"
   ]
  },
  {
   "cell_type": "code",
   "execution_count": 18,
   "id": "d26ed3d6-c901-4ada-8312-3f967bddad65",
   "metadata": {},
   "outputs": [],
   "source": [
    "diamond_data.createOrReplaceTempView(\"diamonds\")"
   ]
  },
  {
   "cell_type": "markdown",
   "id": "f0d2ce4a-5e46-408c-9e9d-8fcd4e09c7d8",
   "metadata": {},
   "source": [
    "<details>\n",
    "    <summary>Click here for a Hint</summary>\n",
    "    \n",
    "use the createOrReplaceTempView method on the dataframe\n",
    "</details>\n"
   ]
  },
  {
   "cell_type": "markdown",
   "id": "540ff8b9-20ab-4dec-850c-ac3d5b9c485f",
   "metadata": {},
   "source": [
    "<details>\n",
    "    <summary>Click here for Solution</summary>\n",
    "\n",
    "```\n",
    "diamond_data.createOrReplaceTempView(\"diamonds\")\n",
    "\n",
    "```\n",
    "\n",
    "</details>\n"
   ]
  },
  {
   "cell_type": "markdown",
   "id": "2d451786-772c-4763-93d9-d8320f1f482b",
   "metadata": {},
   "source": [
    "### Exercise 4 - Run a SQL query on the dataframe\n"
   ]
  },
  {
   "cell_type": "markdown",
   "id": "74dd7d12-ad71-4dbb-99cd-9b3f6c86e591",
   "metadata": {},
   "source": [
    "Select all rows\n"
   ]
  },
  {
   "cell_type": "code",
   "execution_count": 19,
   "id": "0a1aa6bd-13da-4f24-908b-298548041316",
   "metadata": {},
   "outputs": [
    {
     "name": "stdout",
     "output_type": "stream",
     "text": [
      "+---+-----+---------+-----+-------+-----+-----+-----+----+----+----+\n",
      "|  s|carat|      cut|color|clarity|depth|table|price|   x|   y|   z|\n",
      "+---+-----+---------+-----+-------+-----+-----+-----+----+----+----+\n",
      "|  1| 0.23|    Ideal|    E|    SI2| 61.5| 55.0|  326|3.95|3.98|2.43|\n",
      "|  2| 0.21|  Premium|    E|    SI1| 59.8| 61.0|  326|3.89|3.84|2.31|\n",
      "|  3| 0.23|     Good|    E|    VS1| 56.9| 65.0|  327|4.05|4.07|2.31|\n",
      "|  4| 0.29|  Premium|    I|    VS2| 62.4| 58.0|  334| 4.2|4.23|2.63|\n",
      "|  5| 0.31|     Good|    J|    SI2| 63.3| 58.0|  335|4.34|4.35|2.75|\n",
      "|  6| 0.24|Very Good|    J|   VVS2| 62.8| 57.0|  336|3.94|3.96|2.48|\n",
      "|  7| 0.24|Very Good|    I|   VVS1| 62.3| 57.0|  336|3.95|3.98|2.47|\n",
      "|  8| 0.26|Very Good|    H|    SI1| 61.9| 55.0|  337|4.07|4.11|2.53|\n",
      "|  9| 0.22|     Fair|    E|    VS2| 65.1| 61.0|  337|3.87|3.78|2.49|\n",
      "| 10| 0.23|Very Good|    H|    VS1| 59.4| 61.0|  338| 4.0|4.05|2.39|\n",
      "| 11|  0.3|     Good|    J|    SI1| 64.0| 55.0|  339|4.25|4.28|2.73|\n",
      "| 12| 0.23|    Ideal|    J|    VS1| 62.8| 56.0|  340|3.93| 3.9|2.46|\n",
      "| 13| 0.22|  Premium|    F|    SI1| 60.4| 61.0|  342|3.88|3.84|2.33|\n",
      "| 14| 0.31|    Ideal|    J|    SI2| 62.2| 54.0|  344|4.35|4.37|2.71|\n",
      "| 15|  0.2|  Premium|    E|    SI2| 60.2| 62.0|  345|3.79|3.75|2.27|\n",
      "| 16| 0.32|  Premium|    E|     I1| 60.9| 58.0|  345|4.38|4.42|2.68|\n",
      "| 17|  0.3|    Ideal|    I|    SI2| 62.0| 54.0|  348|4.31|4.34|2.68|\n",
      "| 18|  0.3|     Good|    J|    SI1| 63.4| 54.0|  351|4.23|4.29| 2.7|\n",
      "| 19|  0.3|     Good|    J|    SI1| 63.8| 56.0|  351|4.23|4.26|2.71|\n",
      "| 20|  0.3|Very Good|    J|    SI1| 62.7| 59.0|  351|4.21|4.27|2.66|\n",
      "+---+-----+---------+-----+-------+-----+-----+-----+----+----+----+\n",
      "only showing top 20 rows\n",
      "\n"
     ]
    }
   ],
   "source": [
    "results = spark.sql(\"SELECT * FROM diamonds\")\n",
    "results.show()"
   ]
  },
  {
   "cell_type": "markdown",
   "id": "3f7a61a8-d26a-4c5f-af8f-73ea9124d9d8",
   "metadata": {},
   "source": [
    "<details>\n",
    "    <summary>Click here for a Hint</summary>\n",
    "    \n",
    "use the select statement on diamonds view\n",
    "</details>\n"
   ]
  },
  {
   "cell_type": "markdown",
   "id": "9d16d4b1-f690-405a-9e64-1bd3dcadd71d",
   "metadata": {},
   "source": [
    "<details>\n",
    "    <summary>Click here for Solution</summary>\n",
    "\n",
    "```\n",
    "results = spark.sql(\"SELECT * FROM diamonds\")\n",
    "results.show()\n",
    "```\n",
    "\n",
    "</details>\n"
   ]
  },
  {
   "cell_type": "markdown",
   "id": "2b8bbf6c-4141-42a8-a9e2-5b38b250d652",
   "metadata": {},
   "source": [
    "### Exercise 5 - Analyze the dataset\n"
   ]
  },
  {
   "cell_type": "markdown",
   "id": "57d19a53-528c-4309-a476-4e5dd38020d0",
   "metadata": {},
   "source": [
    "List all the unique Cuts\n"
   ]
  },
  {
   "cell_type": "code",
   "execution_count": 20,
   "id": "4f6b3366-e299-48e0-b397-4bccae6f5a53",
   "metadata": {},
   "outputs": [
    {
     "name": "stdout",
     "output_type": "stream",
     "text": [
      "+---------+\n",
      "|      cut|\n",
      "+---------+\n",
      "|  Premium|\n",
      "|    Ideal|\n",
      "|     Good|\n",
      "|     Fair|\n",
      "|Very Good|\n",
      "+---------+\n",
      "\n"
     ]
    }
   ],
   "source": [
    "results = spark.sql(\"SELECT DISTINCT cut FROM diamonds\")\n",
    "results.show()"
   ]
  },
  {
   "cell_type": "markdown",
   "id": "cce7b5c8-6702-4d7f-8cde-7526cb7d24d0",
   "metadata": {},
   "source": [
    "<details>\n",
    "    <summary>Click here for a Hint</summary>\n",
    "    \n",
    "use the select with distinct on cut column\n",
    "</details>\n"
   ]
  },
  {
   "cell_type": "markdown",
   "id": "f4f0865a-ff75-4234-a8cd-275c657d50bb",
   "metadata": {},
   "source": [
    "<details>\n",
    "    <summary>Click here for Solution</summary>\n",
    "\n",
    "```\n",
    "spark.sql(\"SELECT distinct cut FROM diamonds\").show()\n",
    "```\n",
    "\n",
    "</details>\n"
   ]
  },
  {
   "cell_type": "markdown",
   "id": "f30e1252-1aa3-4aff-bbc8-72d93fe5492e",
   "metadata": {},
   "source": [
    "Show the count of Premium Cut diamonds\n"
   ]
  },
  {
   "cell_type": "code",
   "execution_count": 26,
   "id": "5362dc7e-5190-405a-abf8-d16be85b8d12",
   "metadata": {},
   "outputs": [
    {
     "name": "stdout",
     "output_type": "stream",
     "text": [
      "+--------+\n",
      "|count(1)|\n",
      "+--------+\n",
      "|   13791|\n",
      "+--------+\n",
      "\n"
     ]
    }
   ],
   "source": [
    "spark.sql(\"SELECT COUNT(*) FROM diamonds WHERE cut='Premium'\").show()"
   ]
  },
  {
   "cell_type": "markdown",
   "id": "976efdbc-5220-408b-989f-769161bbe96e",
   "metadata": {},
   "source": [
    "<details>\n",
    "    <summary>Click here for a Hint</summary>\n",
    "    \n",
    "use the count function with a where clause\n",
    "</details>\n"
   ]
  },
  {
   "cell_type": "markdown",
   "id": "1350bcc6-40e2-4604-834a-ae91b0df9017",
   "metadata": {},
   "source": [
    "<details>\n",
    "    <summary>Click here for Solution</summary>\n",
    "\n",
    "```\n",
    "spark.sql(\"SELECT count(*) FROM diamonds where cut ='Premium' \").show()\n",
    "```\n",
    "\n",
    "</details>\n"
   ]
  },
  {
   "cell_type": "markdown",
   "id": "93c8d0fe-9215-4da9-ba99-2bf3034db015",
   "metadata": {},
   "source": [
    "Count the number of diamonds with table size greater than 65\n"
   ]
  },
  {
   "cell_type": "code",
   "execution_count": 28,
   "id": "d4d59b0e-5a5e-47c6-b9ed-83daf1a3f56f",
   "metadata": {},
   "outputs": [
    {
     "name": "stdout",
     "output_type": "stream",
     "text": [
      "+--------+\n",
      "|count(1)|\n",
      "+--------+\n",
      "|     181|\n",
      "+--------+\n",
      "\n"
     ]
    }
   ],
   "source": [
    "spark.sql(\"SELECT COUNT(*) FROM diamonds WHERE table > '65'\").show()"
   ]
  },
  {
   "cell_type": "markdown",
   "id": "8c195fce-5d00-4cf6-8c87-be1b413a6f65",
   "metadata": {},
   "source": [
    "<details>\n",
    "    <summary>Click here for a Hint</summary>\n",
    "    \n",
    "use the count function with a where clause\n",
    "</details>\n"
   ]
  },
  {
   "cell_type": "markdown",
   "id": "cbae1858-783d-410e-841b-51b5ee5dda0e",
   "metadata": {},
   "source": [
    "<details>\n",
    "    <summary>Click here for Solution</summary>\n",
    "\n",
    "```\n",
    "spark.sql(\"SELECT count(*) FROM diamonds where table > 65\").show()\n",
    "```\n",
    "\n",
    "</details>\n"
   ]
  },
  {
   "cell_type": "markdown",
   "id": "aaaadc8c-7349-4688-b059-3667039798c6",
   "metadata": {},
   "source": [
    "List the number of diamonds under each color\n"
   ]
  },
  {
   "cell_type": "code",
   "execution_count": 29,
   "id": "d97bb8ab-bc92-4f6c-b644-4f5d07ae26a1",
   "metadata": {},
   "outputs": [
    {
     "name": "stdout",
     "output_type": "stream",
     "text": [
      "+-----+------------+\n",
      "|color|count(color)|\n",
      "+-----+------------+\n",
      "|    F|        9542|\n",
      "|    E|        9797|\n",
      "|    D|        6775|\n",
      "|    J|        2808|\n",
      "|    G|       11292|\n",
      "|    I|        5422|\n",
      "|    H|        8304|\n",
      "+-----+------------+\n",
      "\n"
     ]
    }
   ],
   "source": [
    "spark.sql(\"SELECT color, COUNT(color) FROM diamonds GROUP BY color\").show()"
   ]
  },
  {
   "cell_type": "markdown",
   "id": "eb4153c3-bf0f-43b1-bbc6-1a693271d581",
   "metadata": {},
   "source": [
    "<details>\n",
    "    <summary>Click here for a Hint</summary>\n",
    "    \n",
    "use the count function on color column with a groupby on color\n",
    "</details>\n"
   ]
  },
  {
   "cell_type": "markdown",
   "id": "ef8c2b4d-3ee7-497e-8ec7-3397117c0ee5",
   "metadata": {},
   "source": [
    "<details>\n",
    "    <summary>Click here for Solution</summary>\n",
    "\n",
    "```\n",
    "spark.sql(\"SELECT color, count(color) FROM diamonds group by color\").show()\n",
    "```\n",
    "\n",
    "</details>\n"
   ]
  },
  {
   "cell_type": "markdown",
   "id": "7f6cbd3b-6eb8-4288-9236-eb42b54aad24",
   "metadata": {},
   "source": [
    "Print the maximum price\n"
   ]
  },
  {
   "cell_type": "code",
   "execution_count": 30,
   "id": "763cdb35-5fbe-4abe-b055-bf862bd4d333",
   "metadata": {},
   "outputs": [
    {
     "name": "stdout",
     "output_type": "stream",
     "text": [
      "+----------+\n",
      "|max(price)|\n",
      "+----------+\n",
      "|     18823|\n",
      "+----------+\n",
      "\n"
     ]
    }
   ],
   "source": [
    "spark.sql(\"SELECT max(price) FROM diamonds\").show()"
   ]
  },
  {
   "cell_type": "markdown",
   "id": "95f93a8e-cfe1-4071-9085-97e3e320c527",
   "metadata": {},
   "source": [
    "<details>\n",
    "    <summary>Click here for a Hint</summary>\n",
    "    \n",
    "use the max function on price column\n",
    "</details>\n"
   ]
  },
  {
   "cell_type": "markdown",
   "id": "fbf86d9e-d65b-4ee6-9d61-d559cb527765",
   "metadata": {},
   "source": [
    "<details>\n",
    "    <summary>Click here for Solution</summary>\n",
    "\n",
    "```\n",
    "spark.sql(\"SELECT max(price) FROM diamonds\").show()\n",
    "```\n",
    "\n",
    "</details>\n"
   ]
  },
  {
   "cell_type": "markdown",
   "id": "7f048d8f-aba4-4ac9-adaf-10b97871cc38",
   "metadata": {},
   "source": [
    "Stop Spark Session\n"
   ]
  },
  {
   "cell_type": "code",
   "execution_count": 31,
   "id": "9aeafd80-cf76-4f72-8a8b-0a8557bc81f4",
   "metadata": {},
   "outputs": [],
   "source": [
    "spark.stop()"
   ]
  },
  {
   "cell_type": "markdown",
   "id": "f0c113be-7b2e-4ea3-afed-08a36279db81",
   "metadata": {},
   "source": [
    "Congratulations you have completed this lab.<br>\n"
   ]
  },
  {
   "cell_type": "markdown",
   "id": "be485364-d9b7-498e-a562-cd625d7a1117",
   "metadata": {},
   "source": [
    "## Authors\n"
   ]
  },
  {
   "cell_type": "markdown",
   "id": "b42c7e97-a921-4b9f-a756-65fca6b9c8a4",
   "metadata": {},
   "source": [
    "[Ramesh Sannareddy](https://www.linkedin.com/in/rsannareddy/?utm_medium=Exinfluencer&utm_source=Exinfluencer&utm_content=000026UJ&utm_term=10006555&utm_id=NA-SkillsNetwork-Channel-SkillsNetworkCoursesIBMBD0231ENSkillsNetwork866-2023-01-01)\n"
   ]
  },
  {
   "cell_type": "markdown",
   "id": "da8bbf62-1e51-4e3b-9dae-5f9bf64c836d",
   "metadata": {},
   "source": [
    "### Other Contributors\n"
   ]
  },
  {
   "cell_type": "markdown",
   "id": "11cf4a32-b644-440b-8416-2716f07f3341",
   "metadata": {},
   "source": [
    "Copyright © 2023 IBM Corporation. All rights reserved.\n"
   ]
  },
  {
   "cell_type": "markdown",
   "id": "e67a973d-f970-433c-b55b-d3a076380917",
   "metadata": {},
   "source": [
    "<!--\n",
    "## Change Log\n",
    "-->\n"
   ]
  },
  {
   "cell_type": "markdown",
   "id": "0a44f0ca-941e-4fca-bd04-efef84620da6",
   "metadata": {},
   "source": [
    "<!--\n",
    "|Date (YYYY-MM-DD)|Version|Changed By|Change Description|\n",
    "|-|-|-|-|\n",
    "|2023-05-04|0.1|Ramesh Sannareddy|Initial Version Created|\n",
    "-->\n"
   ]
  }
 ],
 "metadata": {
  "kernelspec": {
   "display_name": "Python 3",
   "language": "python",
   "name": "python3"
  },
  "language_info": {
   "codemirror_mode": {
    "name": "ipython",
    "version": 3
   },
   "file_extension": ".py",
   "mimetype": "text/x-python",
   "name": "python",
   "nbconvert_exporter": "python",
   "pygments_lexer": "ipython3",
   "version": "3.12.7"
  },
  "prev_pub_hash": "a391e24e3daa16c4386301f44198f17ee92d59e53325e6062333c2817e9001fe"
 },
 "nbformat": 4,
 "nbformat_minor": 4
}
